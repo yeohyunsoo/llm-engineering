{
 "cells": [
  {
   "cell_type": "markdown",
   "id": "d15d8294-3328-4e07-ad16-8a03e9bbfdb9",
   "metadata": {},
   "source": [
    "# YOUR FIRST LAB\n",
    "### Please read this section. This is valuable to get you prepared, even if it's a long read -- it's important stuff.\n",
    "\n",
    "### Also, be sure to read [README.md](../README.md)! More info about the updated videos in the README and [top of the course resources in purple](https://edwarddonner.com/2024/11/13/llm-engineering-resources/)\n",
    "\n",
    "## Your first Frontier LLM Project\n",
    "\n",
    "By the end of this course, you will have built an autonomous Agentic AI solution with 7 agents that collaborate to solve a business problem. All in good time! We will start with something smaller...\n",
    "\n",
    "Our goal is to code a new kind of Web Browser. Give it a URL, and it will respond with a summary. The Reader's Digest of the internet!!\n",
    "\n",
    "Before starting, you should have completed the setup linked in the README.\n",
    "\n",
    "### If you're new to working in \"Notebooks\" (also known as Labs or Jupyter Lab)\n",
    "\n",
    "Welcome to the wonderful world of Data Science experimentation! Simply click in each \"cell\" with code in it, such as the cell immediately below this text, and hit Shift+Return to execute that cell. Be sure to run every cell, starting at the top, in order.\n",
    "\n",
    "Please look in the [Guides folder](../guides/01_intro.ipynb) for all the guides.\n",
    "\n",
    "## I am here to help\n",
    "\n",
    "If you have any problems at all, please do reach out.  \n",
    "I'm available through the platform, or at ed@edwarddonner.com, or at https://www.linkedin.com/in/eddonner/ if you'd like to connect (and I love connecting!)  \n",
    "And this is new to me, but I'm also trying out X at [@edwarddonner](https://x.com/edwarddonner) - if you're on X, please show me how it's done 😂  \n",
    "\n",
    "## More troubleshooting\n",
    "\n",
    "Please see the [troubleshooting](../setup/troubleshooting.ipynb) notebook in the setup folder to diagnose and fix common problems. At the very end of it is a diagnostics script with some useful debug info.\n",
    "\n",
    "## If this is old hat!\n",
    "\n",
    "If you're already comfortable with today's material, please hang in there; you can move swiftly through the first few labs - we will get much more in depth as the weeks progress. Ultimately we will fine-tune our own LLM to compete with OpenAI!\n",
    "\n",
    "<table style=\"margin: 0; text-align: left;\">\n",
    "    <tr>\n",
    "        <td style=\"width: 150px; height: 150px; vertical-align: middle;\">\n",
    "            <img src=\"../assets/important.jpg\" width=\"150\" height=\"150\" style=\"display: block;\" />\n",
    "        </td>\n",
    "        <td>\n",
    "            <h2 style=\"color:#900;\">Please read - important note</h2>\n",
    "            <span style=\"color:#900;\">The way I collaborate with you may be different to other courses you've taken. I prefer not to type code while you watch. Rather, I execute Jupyter Labs, like this, and give you an intuition for what's going on. My suggestion is that you carefully execute this yourself, <b>after</b> watching the lecture. Add print statements to understand what's going on, and then come up with your own variations. If you have a Github account, use this to showcase your variations. Not only is this essential practice, but it demonstrates your skills to others, including perhaps future clients or employers...</span>\n",
    "        </td>\n",
    "    </tr>\n",
    "</table>\n",
    "<table style=\"margin: 0; text-align: left;\">\n",
    "    <tr>\n",
    "        <td style=\"width: 150px; height: 150px; vertical-align: middle;\">\n",
    "            <img src=\"../assets/resources.jpg\" width=\"150\" height=\"150\" style=\"display: block;\" />\n",
    "        </td>\n",
    "        <td>\n",
    "            <h2 style=\"color:#f71;\">This code is a live resource - keep an eye out for my emails</h2>\n",
    "            <span style=\"color:#f71;\">I push updates to the code regularly. As people ask questions, I add more examples or improved commentary. As a result, you'll notice that the code below isn't identical to the videos. Everything from the videos is here; but I've also added better explanations and new models like DeepSeek. Consider this like an interactive book.<br/><br/>\n",
    "                I try to send emails regularly with important updates related to the course. You can find this in the 'Announcements' section of Udemy in the left sidebar. You can also choose to receive my emails via your Notification Settings in Udemy. I'm respectful of your inbox and always try to add value with my emails!\n",
    "            </span>\n",
    "        </td>\n",
    "    </tr>\n",
    "</table>\n",
    "<table style=\"margin: 0; text-align: left;\">\n",
    "    <tr>\n",
    "        <td style=\"width: 150px; height: 150px; vertical-align: middle;\">\n",
    "            <img src=\"../assets/business.jpg\" width=\"150\" height=\"150\" style=\"display: block;\" />\n",
    "        </td>\n",
    "        <td>\n",
    "            <h2 style=\"color:#181;\">Business value of these exercises</h2>\n",
    "            <span style=\"color:#181;\">A final thought. While I've designed these notebooks to be educational, I've also tried to make them enjoyable. We'll do fun things like have LLMs tell jokes and argue with each other. But fundamentally, my goal is to teach skills you can apply in business. I'll explain business implications as we go, and it's worth keeping this in mind: as you build experience with models and techniques, think of ways you could put this into action at work today. Please do contact me if you'd like to discuss more or if you have ideas to bounce off me.</span>\n",
    "        </td>\n",
    "    </tr>\n",
    "</table>"
   ]
  },
  {
   "cell_type": "markdown",
   "id": "83f28feb",
   "metadata": {},
   "source": [
    "### If necessary, install Cursor Extensions\n",
    "\n",
    "1. From the View menu, select Extensions\n",
    "2. Search for Python\n",
    "3. Click on \"Python\" made by \"ms-python\" and select Install if not already installed\n",
    "4. Search for Jupyter\n",
    "5. Click on \"Jupyter\" made by \"ms-toolsai\" and select Install of not already installed\n",
    "\n",
    "\n",
    "### Next Select the Kernel\n",
    "\n",
    "Click on \"Select Kernel\" on the Top Right\n",
    "\n",
    "Choose \"Python Environments...\"\n",
    "\n",
    "Then choose the one that looks like `.venv (Python 3.12.x) .venv/bin/python` - it should be marked as \"Recommended\" and have a big star next to it.\n",
    "\n",
    "Any problems with this? Head over to the troubleshooting.\n",
    "\n",
    "### Note: you'll need to set the Kernel with every notebook.."
   ]
  },
  {
   "cell_type": "code",
   "execution_count": 1,
   "id": "4e2a9393-7767-488e-a8bf-27c12dca35bd",
   "metadata": {},
   "outputs": [],
   "source": [
    "# imports\n",
    "\n",
    "import os\n",
    "from dotenv import load_dotenv\n",
    "from scraper import fetch_website_contents\n",
    "from IPython.display import Markdown, display\n",
    "from openai import OpenAI\n",
    "\n",
    "# If you get an error running this cell, then please head over to the troubleshooting notebook!"
   ]
  },
  {
   "cell_type": "markdown",
   "id": "6900b2a8-6384-4316-8aaa-5e519fca4254",
   "metadata": {},
   "source": [
    "# Connecting to OpenAI (or Ollama)\n",
    "\n",
    "The next cell is where we load in the environment variables in your `.env` file and connect to OpenAI.  \n",
    "\n",
    "If you'd like to use free Ollama instead, please see the README section \"Free Alternative to Paid APIs\", and if you're not sure how to do this, there's a full solution in the solutions folder (day1_with_ollama.ipynb).\n",
    "\n",
    "## Troubleshooting if you have problems:\n",
    "\n",
    "If you get a \"Name Error\" - have you run all cells from the top down? Head over to the Python Foundations guide for a bulletproof way to find and fix all Name Errors.\n",
    "\n",
    "If that doesn't fix it, head over to the [troubleshooting](../setup/troubleshooting.ipynb) notebook for step by step code to identify the root cause and fix it!\n",
    "\n",
    "Or, contact me! Message me or email ed@edwarddonner.com and we will get this to work.\n",
    "\n",
    "Any concerns about API costs? See my notes in the README - costs should be minimal, and you can control it at every point. You can also use Ollama as a free alternative, which we discuss during Day 2."
   ]
  },
  {
   "cell_type": "code",
   "execution_count": 14,
   "id": "7b87cadb-d513-4303-baee-a37b6f938e4d",
   "metadata": {},
   "outputs": [
    {
     "name": "stdout",
     "output_type": "stream",
     "text": [
      "API key found and looks good so far!\n"
     ]
    }
   ],
   "source": [
    "# Load environment variables in a file called .env\n",
    "\n",
    "load_dotenv(override=True)\n",
    "api_key = os.getenv('OPENAI_API_KEY')\n",
    "\n",
    "# Check the key\n",
    "\n",
    "if not api_key:\n",
    "    print(\"No API key was found - please head over to the troubleshooting notebook in this folder to identify & fix!\")\n",
    "elif not api_key.startswith(\"sk-proj-\"):\n",
    "    print(\"An API key was found, but it doesn't start sk-proj-; please check you're using the right key - see troubleshooting notebook\")\n",
    "elif api_key.strip() != api_key:\n",
    "    print(\"An API key was found, but it looks like it might have space or tab characters at the start or end - please remove them - see troubleshooting notebook\")\n",
    "else:\n",
    "    print(\"API key found and looks good so far!\")\n"
   ]
  },
  {
   "cell_type": "markdown",
   "id": "442fc84b-0815-4f40-99ab-d9a5da6bda91",
   "metadata": {},
   "source": [
    "# Let's make a quick call to a Frontier model to get started, as a preview!"
   ]
  },
  {
   "cell_type": "code",
   "execution_count": 15,
   "id": "a58394bf-1e45-46af-9bfd-01e24da6f49a",
   "metadata": {},
   "outputs": [
    {
     "data": {
      "text/plain": [
       "[{'role': 'user',\n",
       "  'content': 'Hello, GPT! This is my first ever message to you! Hi!'}]"
      ]
     },
     "execution_count": 15,
     "metadata": {},
     "output_type": "execute_result"
    }
   ],
   "source": [
    "# To give you a preview -- calling OpenAI with these messages is this easy. Any problems, head over to the Troubleshooting notebook.\n",
    "\n",
    "message = \"Hello, GPT! This is my first ever message to you! Hi!\"\n",
    "\n",
    "messages = [{\"role\": \"user\", \"content\": message}]\n",
    "\n",
    "messages\n"
   ]
  },
  {
   "cell_type": "code",
   "execution_count": 16,
   "id": "08330159",
   "metadata": {},
   "outputs": [
    {
     "data": {
      "text/plain": [
       "'Hi there! Welcome, and nice to meet you. I’m here to help with questions, explanations, writing, planning, coding—pretty much anything you need.\\n\\nWhat would you like to do today? A few ideas to get started:\\n- Explain a concept or topic\\n- Draft an email or message\\n- Plan a trip, meal, or study schedule\\n- Solve a math problem or code a small project\\n- Brainstorm ideas or write a short story\\n\\nTell me your current goal or how you’d like me to tailor my help.'"
      ]
     },
     "execution_count": 16,
     "metadata": {},
     "output_type": "execute_result"
    }
   ],
   "source": [
    "openai = OpenAI()\n",
    "\n",
    "response = openai.chat.completions.create(model=\"gpt-5-nano\", messages=messages)\n",
    "response.choices[0].message.content"
   ]
  },
  {
   "cell_type": "markdown",
   "id": "2aa190e5-cb31-456a-96cc-db109919cd78",
   "metadata": {},
   "source": [
    "## OK onwards with our first project"
   ]
  },
  {
   "cell_type": "code",
   "execution_count": 6,
   "id": "2ef960cf-6dc2-4cda-afb3-b38be12f4c97",
   "metadata": {},
   "outputs": [
    {
     "name": "stdout",
     "output_type": "stream",
     "text": [
      "Home - Edward Donner\n",
      "\n",
      "Home\n",
      "Connect Four\n",
      "Outsmart\n",
      "An arena that pits LLMs against each other in a battle of diplomacy and deviousness\n",
      "About\n",
      "Posts\n",
      "Well, hi there.\n",
      "I’m Ed. I like writing code and experimenting with LLMs, and hopefully you’re here because you do too. I also enjoy DJing (but I’m badly out of practice), amateur electronic music production (\n",
      "very\n",
      "amateur) and losing myself in\n",
      "Hacker News\n",
      ", nodding my head sagely to things I only half understand.\n",
      "I’m the co-founder and CTO of\n",
      "Nebula.io\n",
      ". We’re applying AI to a field where it can make a massive, positive impact: helping people discover their potential and pursue their reason for being. Recruiters use our product today to source, understand, engage and manage talent. I’m previously the founder and CEO of AI startup untapt,\n",
      "acquired in 2021\n",
      ".\n",
      "We work with groundbreaking, proprietary LLMs verticalized for talent, we’ve\n",
      "patented\n",
      "our matching model, and our award-winning platform has happy customers and tons of press coverage.\n",
      "Connect\n",
      "with me for more!\n",
      "September 15, 2025\n",
      "AI in Production: Gen AI and Agentic AI on AWS at scale\n",
      "May 28, 2025\n",
      "Connecting my courses – become an LLM expert and leader\n",
      "May 18, 2025\n",
      "2025 AI Executive Briefing\n",
      "April 21, 2025\n",
      "The Complete Agentic AI Engineering Course\n",
      "Navigation\n",
      "Home\n",
      "Connect Four\n",
      "Outsmart\n",
      "An arena that pits LLMs against each other in a battle of diplomacy and deviousness\n",
      "About\n",
      "Posts\n",
      "Get in touch\n",
      "ed [at] edwarddonner [dot] com\n",
      "www.edwarddonner.com\n",
      "Follow me\n",
      "LinkedIn\n",
      "Twitter\n",
      "Facebook\n",
      "Subscribe to newsletter\n",
      "Type your email…\n",
      "Subscribe\n"
     ]
    }
   ],
   "source": [
    "# Let's try out this utility\n",
    "\n",
    "ed = fetch_website_contents(\"https://edwarddonner.com\")\n",
    "print(ed)"
   ]
  },
  {
   "cell_type": "code",
   "execution_count": 3,
   "id": "01ca45a9",
   "metadata": {},
   "outputs": [
    {
     "name": "stdout",
     "output_type": "stream",
     "text": [
      "Briefly - Turn Sales Knowledge into Playbooks | Sales Enablement Tool\n",
      "\n",
      "Briefly\n",
      "Capture what matters before it's gone\n",
      "Meet the Coaches\n",
      "Living Sales Coach, Built from Your Best Deals.\n",
      "Your top reps know how to win.\n",
      "Your new hires don't.\n",
      "Briefly captures what they do — and turns it into living coaches new hires can use.\n",
      "With Briefly, new reps learn from top performers — without losing 10 deals to figure it out.\n",
      "Meet the Coaches\n",
      "\"What's the one thing your new reps always miss at first?\"\n",
      "No Silver Bullets, We Know.\n",
      "But tell us where it hurts. That's where we start building the right thing.\n",
      "Share your challenge\n",
      "Tribal knowledge doesn't scale.\n",
      "But it decides who wins.\n",
      "💬\n",
      "Sales knowledge & insights live in inboxes, calls, and conversations\n",
      "CRM notes don't tell you how objections were handled, or what actually closed the deal.\n",
      "👤\n",
      "Your top performers build their own playbooks — and keep them\n",
      "Their tactics evolve, but rarely are they shared. When they leave, so does their edge.\n",
      "🧭\n",
      "Onboarding is broken — Same mistakes, every new hire.\n",
      "New reps spend from weeks to months learning the hard way, repeating mistakes others already solved.\n",
      "Capture What Works\n",
      "Connect Data Sources\n",
      "Top reps close more not just because of what they know, but how they sell.\n",
      "Briefly hooks into sales conversations, emails, and notes without extra work needed and captures how they sell in real time.\n",
      "Analyze & Generate\n",
      "Analyze & Generate What Wins\n",
      "Key to closing deals relies on high-impact responses, phrases, and objections.\n",
      "Without extra work needed, Briefly automatically organizes chaos — unstructed calls, emails and notes — turned into clear, sharable playbook you can put to work right away.\n",
      "View & Edit\n",
      "Your Playbook, in Motion\n",
      "Playbooks automatically generated are just the beginning.\n",
      "Easily view and edit each section, leave comments, tag teammates, or refine messages together.\n",
      "Whether you're onboarding new reps, A/B testing objection handling — Briefly makes it simple to adapt and improve what works\n",
      "Distribu\n"
     ]
    }
   ],
   "source": [
    "briefly = fetch_website_contents(\"https://briefly.impact-driven.com\", use_browser=True)\n",
    "print(briefly)"
   ]
  },
  {
   "cell_type": "markdown",
   "id": "6a478a0c-2c53-48ff-869c-4d08199931e1",
   "metadata": {},
   "source": [
    "## Types of prompts\n",
    "\n",
    "You may know this already - but if not, you will get very familiar with it!\n",
    "\n",
    "Models like GPT have been trained to receive instructions in a particular way.\n",
    "\n",
    "They expect to receive:\n",
    "\n",
    "**A system prompt** that tells them what task they are performing and what tone they should use\n",
    "\n",
    "**A user prompt** -- the conversation starter that they should reply to"
   ]
  },
  {
   "cell_type": "code",
   "execution_count": 4,
   "id": "abdb8417-c5dc-44bc-9bee-2e059d162699",
   "metadata": {},
   "outputs": [],
   "source": [
    "# Define our system prompt - you can experiment with this later, changing the last sentence to 'Respond in markdown in Spanish.\"\n",
    "\n",
    "system_prompt = \"\"\"\n",
    "You are a helpful assistant that analyzes the contents of a website,\n",
    "and provides a short but critical summary that could help user decide whether or not to purchase the product sold within the website (might be either software, physical goods or etc.),.\n",
    "While doing so, ignore the salesy pitch or letters inside the website and instead try to find the core value user could get based on his circumstances.\n",
    "Also, search for recent news or announcements on the company behind the website to provide user latest & further information.\n",
    "\n",
    "Respond in markdown. Do not wrap the markdown in a code block - respond just with the markdown.\n",
    "Also, while responding, try not to look like an AI-Slop (eg. do not use em dashes).\n",
    "\"\"\""
   ]
  },
  {
   "cell_type": "code",
   "execution_count": 5,
   "id": "f0275b1b-7cfe-4f9d-abfa-7650d378da0c",
   "metadata": {},
   "outputs": [],
   "source": [
    "# Define our user prompt\n",
    "\n",
    "user_prompt_prefix = \"\"\"\n",
    "Here are the contents of a website.\n",
    "Provide a short summary of this website.\n",
    "If it includes news or announcements, then summarize these too.\n",
    "\"\"\""
   ]
  },
  {
   "cell_type": "markdown",
   "id": "ea211b5f-28e1-4a86-8e52-c0b7677cadcc",
   "metadata": {},
   "source": [
    "## Messages\n",
    "\n",
    "The API from OpenAI expects to receive messages in a particular structure.\n",
    "Many of the other APIs share this structure:\n",
    "\n",
    "```python\n",
    "[\n",
    "    {\"role\": \"system\", \"content\": \"system message goes here\"},\n",
    "    {\"role\": \"user\", \"content\": \"user message goes here\"}\n",
    "]\n",
    "```\n",
    "To give you a preview, the next 2 cells make a rather simple call - we won't stretch the mighty GPT (yet!)"
   ]
  },
  {
   "cell_type": "code",
   "execution_count": null,
   "id": "f25dcd35-0cd0-4235-9f64-ac37ed9eaaa5",
   "metadata": {},
   "outputs": [],
   "source": [
    "messages = [\n",
    "    {\"role\": \"system\", \"content\": \"You are a helpful assistant\"},\n",
    "    {\"role\": \"user\", \"content\": \"What is 2 + 2?\"}\n",
    "]\n",
    "\n",
    "response = openai.chat.completions.create(model=\"gpt-4.1-nano\", messages=messages)\n",
    "response.choices[0].message.content"
   ]
  },
  {
   "cell_type": "markdown",
   "id": "d06e8d78-ce4c-4b05-aa8e-17050c82bb47",
   "metadata": {},
   "source": [
    "## And now let's build useful messages for GPT-4.1-mini, using a function"
   ]
  },
  {
   "cell_type": "code",
   "execution_count": 6,
   "id": "0134dfa4-8299-48b5-b444-f2a8c3403c88",
   "metadata": {},
   "outputs": [],
   "source": [
    "# See how this function creates exactly the format above\n",
    "\n",
    "def messages_for(website):\n",
    "    return [\n",
    "        {\"role\": \"system\", \"content\": system_prompt},\n",
    "        {\"role\": \"user\", \"content\": user_prompt_prefix + website}\n",
    "    ]"
   ]
  },
  {
   "cell_type": "code",
   "execution_count": 7,
   "id": "469ef4e3",
   "metadata": {},
   "outputs": [
    {
     "data": {
      "text/plain": [
       "[{'role': 'system',\n",
       "  'content': '\\nYou are a helpful assistant that analyzes the contents of a website,\\nand provides a short but critical summary that could help user decide whether or not to purchase the product sold within the website (might be either software, physical goods or etc.),.\\nWhile doing so, ignore the salesy pitch or letters inside the website and instead try to find the core value user could get based on his circumstances.\\nAlso, search for recent news or announcements on the company behind the website to provide user latest & further information.\\n\\nRespond in markdown. Do not wrap the markdown in a code block - respond just with the markdown.\\nAlso, while responding, try not to look like an AI-Slop (eg. do not use em dashes).\\n'},\n",
       " {'role': 'user',\n",
       "  'content': '\\nHere are the contents of a website.\\nProvide a short summary of this website.\\nIf it includes news or announcements, then summarize these too.\\nBriefly - Turn Sales Knowledge into Playbooks | Sales Enablement Tool\\n\\nBriefly\\nCapture what matters before it\\'s gone\\nMeet the Coaches\\nLiving Sales Coach, Built from Your Best Deals.\\nYour top reps know how to win.\\nYour new hires don\\'t.\\nBriefly captures what they do — and turns it into living coaches new hires can use.\\nWith Briefly, new reps learn from top performers — without losing 10 deals to figure it out.\\nMeet the Coaches\\n\"What\\'s the one thing your new reps always miss at first?\"\\nNo Silver Bullets, We Know.\\nBut tell us where it hurts. That\\'s where we start building the right thing.\\nShare your challenge\\nTribal knowledge doesn\\'t scale.\\nBut it decides who wins.\\n💬\\nSales knowledge & insights live in inboxes, calls, and conversations\\nCRM notes don\\'t tell you how objections were handled, or what actually closed the deal.\\n👤\\nYour top performers build their own playbooks — and keep them\\nTheir tactics evolve, but rarely are they shared. When they leave, so does their edge.\\n🧭\\nOnboarding is broken — Same mistakes, every new hire.\\nNew reps spend from weeks to months learning the hard way, repeating mistakes others already solved.\\nCapture What Works\\nConnect Data Sources\\nTop reps close more not just because of what they know, but how they sell.\\nBriefly hooks into sales conversations, emails, and notes without extra work needed and captures how they sell in real time.\\nAnalyze & Generate\\nAnalyze & Generate What Wins\\nKey to closing deals relies on high-impact responses, phrases, and objections.\\nWithout extra work needed, Briefly automatically organizes chaos — unstructed calls, emails and notes — turned into clear, sharable playbook you can put to work right away.\\nView & Edit\\nYour Playbook, in Motion\\nPlaybooks automatically generated are just the beginning.\\nEasily view and edit each section, leave comments, tag teammates, or refine messages together.\\nWhether you\\'re onboarding new reps, A/B testing objection handling — Briefly makes it simple to adapt and improve what works\\nDistribu'}]"
      ]
     },
     "execution_count": 7,
     "metadata": {},
     "output_type": "execute_result"
    }
   ],
   "source": [
    "messages_for(briefly)"
   ]
  },
  {
   "cell_type": "code",
   "execution_count": 9,
   "id": "36478464-39ee-485c-9f3f-6a4e458dbc9c",
   "metadata": {},
   "outputs": [
    {
     "data": {
      "text/plain": [
       "[{'role': 'system',\n",
       "  'content': '\\nYou are a helpful assistant that analyzes the contents of a website,\\nand provides a short but critical summary that could help user decide whether or not to purchase the product sold within the website (might be either software, physical goods or etc.),.\\nWhile doing so, ignore the salesy pitch or letters inside the website and instead try to find the core value user could get based on his circumstances.\\nAlso, search for recent news or announcements on the company behind the website to provide user latest & further information.\\n\\nRespond in markdown. Do not wrap the markdown in a code block - respond just with the markdown.\\nAlso, while responding, try not to look like an AI-Slop (eg. do not use em dashes).\\n'},\n",
       " {'role': 'user',\n",
       "  'content': '\\nHere are the contents of a website.\\nProvide a short summary of this website.\\nIf it includes news or announcements, then summarize these too.\\nHome - Edward Donner\\n\\nHome\\nConnect Four\\nOutsmart\\nAn arena that pits LLMs against each other in a battle of diplomacy and deviousness\\nAbout\\nPosts\\nWell, hi there.\\nI’m Ed. I like writing code and experimenting with LLMs, and hopefully you’re here because you do too. I also enjoy DJing (but I’m badly out of practice), amateur electronic music production (\\nvery\\namateur) and losing myself in\\nHacker News\\n, nodding my head sagely to things I only half understand.\\nI’m the co-founder and CTO of\\nNebula.io\\n. We’re applying AI to a field where it can make a massive, positive impact: helping people discover their potential and pursue their reason for being. Recruiters use our product today to source, understand, engage and manage talent. I’m previously the founder and CEO of AI startup untapt,\\nacquired in 2021\\n.\\nWe work with groundbreaking, proprietary LLMs verticalized for talent, we’ve\\npatented\\nour matching model, and our award-winning platform has happy customers and tons of press coverage.\\nConnect\\nwith me for more!\\nSeptember 15, 2025\\nAI in Production: Gen AI and Agentic AI on AWS at scale\\nMay 28, 2025\\nConnecting my courses – become an LLM expert and leader\\nMay 18, 2025\\n2025 AI Executive Briefing\\nApril 21, 2025\\nThe Complete Agentic AI Engineering Course\\nNavigation\\nHome\\nConnect Four\\nOutsmart\\nAn arena that pits LLMs against each other in a battle of diplomacy and deviousness\\nAbout\\nPosts\\nGet in touch\\ned [at] edwarddonner [dot] com\\nwww.edwarddonner.com\\nFollow me\\nLinkedIn\\nTwitter\\nFacebook\\nSubscribe to newsletter\\nType your email…\\nSubscribe'}]"
      ]
     },
     "execution_count": 9,
     "metadata": {},
     "output_type": "execute_result"
    }
   ],
   "source": [
    "# Try this out, and then try for a few more websites\n",
    "\n",
    "messages_for(ed)"
   ]
  },
  {
   "cell_type": "markdown",
   "id": "16f49d46-bf55-4c3e-928f-68fc0bf715b0",
   "metadata": {},
   "source": [
    "## Time to bring it together - the API for OpenAI is very simple!"
   ]
  },
  {
   "cell_type": "code",
   "execution_count": 11,
   "id": "905b9919-aba7-45b5-ae65-81b3d1d78e34",
   "metadata": {},
   "outputs": [],
   "source": [
    "# And now: call the OpenAI API. You will get very familiar with this!\n",
    "\n",
    "def summarize(url):\n",
    "    website = fetch_website_contents(url)\n",
    "    response = openai.chat.completions.create(\n",
    "        model = \"gpt-5-nano\",\n",
    "        messages = messages_for(website)\n",
    "    )\n",
    "    return response.choices[0].message.content"
   ]
  },
  {
   "cell_type": "code",
   "execution_count": 11,
   "id": "05e38d41-dfa4-4b20-9c96-c46ea75d9fb5",
   "metadata": {},
   "outputs": [
    {
     "data": {
      "text/plain": [
       "'- What this site is\\n  - A personal hub for Ed (Edward Donner), CTO/co-founder focus, mixing a tech/blog vibe with highlights about LLMs and AI startup work.\\n  - It features bios, project ideas (Connect Four and Outsmart), and a blog/Posts section with recent AI-focused content and courses.\\n  - It also markets Nebula.io (a talent recruitment AI platform with a patented matching model) and notes Ed’s background with untapt (acquired in 2021).\\n\\n- Core value for you (based on your situation)\\n  - If you’re an AI practitioner or founder: you can glean hands-on perspectives on deploying Gen AI at scale, agentic AI, and practical course-style material from Ed’s posts.\\n  - If you’re hiring or evaluating talent-tech solutions: you’ll get an author’s viewpoint on AI-assisted talent discovery, plus some background on the Nebula.io platform, though concrete product details, pricing, or case studies aren’t provided here.\\n  - The site is more about education, experiments, and author branding than a straightforward storefront or product brochure.\\n\\n- What to watch for on the site\\n  - Connect Four and Outsmart indicate an interest in LLM-to-LLM contests and diplomacy-style AI behavior, which could hint at research-minded experimentation and tooling concepts.\\n  - Posts (2025) cover Gen AI on AWS at scale, LLM expertise courses, executive briefings, and agentic AI engineering—useful if you’re building or learning about modern AI workflows and governance.\\n\\n- News and announcements from the company behind the site (Nebula.io)\\n  - The page presents Nebula.io as a patent-backed, award-winning talent-matching platform used by recruiters and claims significant press coverage, but it does not link to external press releases or detailed case studies here.\\n  - It notes Ed’s past startup untapt, which was acquired in 2021, suggesting a credible track record in AI-driven recruitment.\\n  - Recent posts (Sept 2025, May 2025, etc.) focus on AI deployment, education, and agentic AI topics rather than company-wide press releases. No standalone, verifiable company announcements are provided on this page itself.\\n  - Action: check Nebula.io’s official site, LinkedIn, and reputable press outlets for any new funding, product updates, or customer wins to confirm current status.\\n\\n- Is this a product to buy?\\n  - Direct purchasing information is not offered on this site. It serves as a personal portfolio, blog, and pointer to Nebula.io’s platform.\\n  - If you’re considering Nebula.io for talent recruitment, you’ll need to obtain a proper product demo, pricing, security/compliance details, and customer references beyond this site.\\n  - If you’re seeking learning resources, you can view Ed’s posts and courses mentioned here, but verify course access/details from official course pages or providers.\\n\\n- Bottom-line\\n  - The site is a useful pointer to Ed Donner’s AI-focused work, experiments, and educational material, with occasional glimpses into Nebula.io’s recruitment platform. For a purchase decision, rely on independent product information, demos, and verifiable customer references rather than this personal site alone.'"
      ]
     },
     "execution_count": 11,
     "metadata": {},
     "output_type": "execute_result"
    }
   ],
   "source": [
    "summarize(\"https://edwarddonner.com\")"
   ]
  },
  {
   "cell_type": "code",
   "execution_count": 12,
   "id": "3d926d59-450e-4609-92ba-2d6f244f1342",
   "metadata": {},
   "outputs": [],
   "source": [
    "# A function to display this nicely in the output, using markdown\n",
    "\n",
    "def display_summary(url):\n",
    "    summary = summarize(url)\n",
    "    display(Markdown(summary))"
   ]
  },
  {
   "cell_type": "code",
   "execution_count": 13,
   "id": "8d62dd6d",
   "metadata": {},
   "outputs": [
    {
     "ename": "NameError",
     "evalue": "name 'openai' is not defined",
     "output_type": "error",
     "traceback": [
      "\u001b[31m---------------------------------------------------------------------------\u001b[39m",
      "\u001b[31mNameError\u001b[39m                                 Traceback (most recent call last)",
      "\u001b[36mCell\u001b[39m\u001b[36m \u001b[39m\u001b[32mIn[13]\u001b[39m\u001b[32m, line 1\u001b[39m\n\u001b[32m----> \u001b[39m\u001b[32m1\u001b[39m \u001b[43mdisplay_summary\u001b[49m\u001b[43m(\u001b[49m\u001b[33;43m\"\u001b[39;49m\u001b[33;43mhttps://briefly.impact-driven.com\u001b[39;49m\u001b[33;43m\"\u001b[39;49m\u001b[43m)\u001b[49m\n",
      "\u001b[36mCell\u001b[39m\u001b[36m \u001b[39m\u001b[32mIn[12]\u001b[39m\u001b[32m, line 4\u001b[39m, in \u001b[36mdisplay_summary\u001b[39m\u001b[34m(url)\u001b[39m\n\u001b[32m      3\u001b[39m \u001b[38;5;28;01mdef\u001b[39;00m\u001b[38;5;250m \u001b[39m\u001b[34mdisplay_summary\u001b[39m(url):\n\u001b[32m----> \u001b[39m\u001b[32m4\u001b[39m     summary = \u001b[43msummarize\u001b[49m\u001b[43m(\u001b[49m\u001b[43murl\u001b[49m\u001b[43m)\u001b[49m\n\u001b[32m      5\u001b[39m     display(Markdown(summary))\n",
      "\u001b[36mCell\u001b[39m\u001b[36m \u001b[39m\u001b[32mIn[11]\u001b[39m\u001b[32m, line 5\u001b[39m, in \u001b[36msummarize\u001b[39m\u001b[34m(url)\u001b[39m\n\u001b[32m      3\u001b[39m \u001b[38;5;28;01mdef\u001b[39;00m\u001b[38;5;250m \u001b[39m\u001b[34msummarize\u001b[39m(url):\n\u001b[32m      4\u001b[39m     website = fetch_website_contents(url)\n\u001b[32m----> \u001b[39m\u001b[32m5\u001b[39m     response = \u001b[43mopenai\u001b[49m.chat.completions.create(\n\u001b[32m      6\u001b[39m         model = \u001b[33m\"\u001b[39m\u001b[33mgpt-5-nano\u001b[39m\u001b[33m\"\u001b[39m,\n\u001b[32m      7\u001b[39m         messages = messages_for(website)\n\u001b[32m      8\u001b[39m     )\n\u001b[32m      9\u001b[39m     \u001b[38;5;28;01mreturn\u001b[39;00m response.choices[\u001b[32m0\u001b[39m].message.content\n",
      "\u001b[31mNameError\u001b[39m: name 'openai' is not defined"
     ]
    }
   ],
   "source": [
    "display_summary(\"https://briefly.impact-driven.com\")"
   ]
  },
  {
   "cell_type": "code",
   "execution_count": 13,
   "id": "3018853a-445f-41ff-9560-d925d1774b2f",
   "metadata": {},
   "outputs": [
    {
     "data": {
      "text/markdown": [
       "- Quick read of the site\n",
       "  - It’s the personal site of Edward Donner, a tech founder and CTO of Nebula.io. The site blends a short bio, project sections (Connect Four and Outsmart), a blog/Posts area with several 2025 entries, and links to Nebula.io, Ed’s courses, and social profiles.\n",
       "  - Core business claim on the site: Nebula.io runs a talent platform that uses proprietary, vertical LLMs and a patented talent-matching model to help recruiters source, understand, engage, and manage talent. The site asserts “happy customers” and “tons of press coverage,” but it does not provide concrete case studies, logos, pricing, or performance metrics on the page.\n",
       "\n",
       "- What value you could get\n",
       "  - For talent/recruiting buyers or organizations exploring AI-driven hiring:\n",
       "    - A claim of a vertically specialized LLM approach for recruiting plus a patented matching model. If true and backed by actual customers, this could potentially reduce time-to-fill and improve candidate fit.\n",
       "    - A signaling of credibility through references to awards and press coverage (though no specifics are provided on the site).\n",
       "  - For learners and practitioners:\n",
       "    - Access to Ed’s writings and courses on LLMs, agentic AI, and AI engineering, plus a newsletter. The courses and executive briefings may be useful if you want structured learning paths.\n",
       "\n",
       "- What to verify before considering a purchase\n",
       "  - Customer proof points: request case studies, logos, and references to validate claims of “happy customers” and real ROI.\n",
       "  - Product details: details on the Nebula.io platform, pricing, deployment options, data privacy/security, integration capabilities, and support.\n",
       "  - Maturity and support: onboarding process, service levels, and roadmaps for the patented matching model and vertical LLMs.\n",
       "  - External credibility: look up Nebula.io in press releases, funding rounds, partnerships, or analyst coverage to corroborate the on-site claims.\n",
       "\n",
       "- News and announcements found on the site (as of the page content)\n",
       "  - On-site announcements (2025):\n",
       "    - AI in Production: Gen AI and Agentic AI on AWS at scale — Sept 15, 2025\n",
       "    - Connecting my courses – become an LLM expert and leader — May 28, 2025\n",
       "    - 2025 AI Executive Briefing — May 18, 2025\n",
       "    - The Complete Agentic AI Engineering Course — Apr 21, 2025\n",
       "  - Observations:\n",
       "    - These appear to be personal/blog-style announcements and course offerings rather than external press releases about Nebula.io.\n",
       "    - There is a reference to untapt being acquired in 2021 (historical background) and mention of a patented matching model, but no recent public disclosures about Nebula.io funding, customers, or partnerships on the page.\n",
       "  - What this means for a buyer:\n",
       "    - The site signals ongoing activity and thought leadership in AI, plus educational resources, but it does not provide new external confirmations about product traction or enterprise deals. You’d want to confirm current company status with Nebula.io directly and look for independent news or customer references.\n",
       "\n",
       "- Bottom line\n",
       "  - The site positions Edward Donner as an AI/LLM expert with a talent-platform angle through Nebula.io, plus his own educational content. If you’re evaluating Nebula.io for talent recruiting, this site is a starting point for credibility but lacks concrete buyer proof (case studies, pricing, SLA details). Do direct due diligence: request a product demo, customer references, security/privacy details, and independent news coverage to assess real-world value."
      ],
      "text/plain": [
       "<IPython.core.display.Markdown object>"
      ]
     },
     "metadata": {},
     "output_type": "display_data"
    }
   ],
   "source": [
    "display_summary(\"https://edwarddonner.com\")"
   ]
  },
  {
   "cell_type": "markdown",
   "id": "b3bcf6f4-adce-45e9-97ad-d9a5d7a3a624",
   "metadata": {},
   "source": [
    "# Let's try more websites\n",
    "\n",
    "Note that this will only work on websites that can be scraped using this simplistic approach.\n",
    "\n",
    "Websites that are rendered with Javascript, like React apps, won't show up. See the community-contributions folder for a Selenium implementation that gets around this. You'll need to read up on installing Selenium (ask ChatGPT!)\n",
    "\n",
    "Also Websites protected with CloudFront (and similar) may give 403 errors - many thanks Andy J for pointing this out.\n",
    "\n",
    "But many websites will work just fine!"
   ]
  },
  {
   "cell_type": "code",
   "execution_count": 17,
   "id": "45d83403-a24c-44b5-84ac-961449b4008f",
   "metadata": {},
   "outputs": [
    {
     "data": {
      "text/markdown": [
       "- Short summary: The site markets a sales enablement software centered on turning tacit sales knowledge into structured, reusable playbooks. The core idea is to help teams create, standardize, and distribute playbooks (templates, messaging, scripts) to improve onboarding, coaching, and consistency across reps.\n",
       "\n",
       "- Who it’s for and the core value:  \n",
       "  - Best for sales organizations with distributed teams, multiple products, or frequent messaging updates.  \n",
       "  - Core value is enabling faster ramp time, more consistent customer interactions, and better coaching via centralized playbooks, content templates, and usage analytics.  \n",
       "  - If you struggle with inconsistent messaging or slow onboarding, this kind of tool can help standardize processes and track adoption.\n",
       "\n",
       "- Key features to look for (verify on the site):  \n",
       "  - Content creation and versioning for playbooks, templates, call scripts, email sequences  \n",
       "  - Distribution and access controls (who can view/edit which playbooks)  \n",
       "  - Integration with CRM and other sales tools (e.g., Salesforce, HubSpot)  \n",
       "  - Adoption analytics (usage, effectiveness, win impact) and coaching workflows  \n",
       "  - Security/compliance, onboarding/training support, and pricing details\n",
       "\n",
       "- Potential concerns to consider:  \n",
       "  - Actual ROI vs. marketing claims; look for case studies or quantified outcomes  \n",
       "  - Depth of CRM and other tool integrations; risk of vendor lock-in  \n",
       "  - Complexity or onboarding time;是否 the platform is easy for reps to adopt  \n",
       "  - Pricing structure and scalability for larger teams\n",
       "\n",
       "- News and announcements:  \n",
       "  - I don’t have real-time browse access here to fetch current news. If you want recent updates on the company, you can share the company name or URL and I can summarize any press releases, funding rounds, product updates, partnerships, or security notices. Alternatively, I can guide you on where to look (company newsroom, LinkedIn, Crunchbase, or major tech news outlets).\n",
       "\n",
       "- Quick next steps to assess suitability:  \n",
       "  - Check for customer testimonials or case studies in industries similar to yours.  \n",
       "  - Look for explicit statements on ROI and onboarding time.  \n",
       "  - Confirm integrations you rely on and whether the product supports your content governance needs.  \n",
       "  - Compare pricing tiers and what is included at each level."
      ],
      "text/plain": [
       "<IPython.core.display.Markdown object>"
      ]
     },
     "metadata": {},
     "output_type": "display_data"
    }
   ],
   "source": [
    "display_summary(\"https://briefly.impact-driven.com\")\n",
    "\n",
    "# 다 좋은데.. 왜 이렇게 오래 걸리지..?"
   ]
  },
  {
   "cell_type": "code",
   "execution_count": 15,
   "id": "75e9fd40-b354-4341-991e-863ef2e59db7",
   "metadata": {},
   "outputs": [
    {
     "data": {
      "text/markdown": [
       "**Brief rundown of the site**\n",
       "\n",
       "- Company and product focus: Anthropic markets Claude, a family of AI models with a strong emphasis on safety, governance, and long-term well-being. The site bundles research, policy, and developer tools around Claude (including Claude, Claude Code, and Claude Developer Platform), plus a Trust Center and security/compliance resources.\n",
       "- Core value proposition: Safety-first AI development with a public benefit orientation. They highlight responsible scaling, transparency, and policy around AI risk as foundational to their offerings.\n",
       "- What you can buy/try: Access to Claude via the Claude platform, with specific product lines for coding (Claude Code) and agents (Claude Sonnet, Haiku variants noted in announcements). There are developer tools, documentation, pricing, and “Try Claude” options.\n",
       "- Signals about usability and focus: The site stresses governance, safety rails, and compliance, aiming at enterprise or regulated use cases that want guardrails and accountability in AI.\n",
       "\n",
       "**What the site is likely to be best for you if you’re evaluating it**\n",
       "\n",
       "- If you are a developer or business needing an AI that prioritizes safety, policy controls, and auditability, Anthropic’s Claude ecosystem could be compelling.\n",
       "- The value proposition leans toward controlled AI behavior, transparency around how models are guided, and tools aimed at building reliable, safer AI-powered applications.\n",
       "- Potential caveats to consider: the emphasis on safety and policy can imply stricter guardrails and potentially more conservative outputs or higher latency. Pricing and deployment considerations (region availability, API limits, enterprise terms) should be checked in detail.\n",
       "\n",
       "**Recent announcements visible on the site**\n",
       "\n",
       "- Claude Sonnet 4.5 and Claude Haiku 4.5 are highlighted as new model announcements, described as optimizations for agents, coding, and managing context on the Claude Developer Platform. The language on these items emphasizes safety-oriented improvements and better context handling.\n",
       "\n",
       "**Latest company news and context (what to look up for up-to-date info)**\n",
       "\n",
       "- Anthropic is a safety- and research-driven AI company behind Claude, often releasing model updates and publishing policy/safety work. In recent years they have pursued partnerships with cloud providers and enterprise customers to scale safe AI deployments, and they publicly emphasize constitutional AI, safety methodologies, and transparency commitments.\n",
       "- For the very latest developments, check Anthropic’s News page, press releases, and their official blog. This will show the newest Claude updates, platform enhancements, and any new partnerships or regulatory/policy initiatives.\n",
       "\n",
       "**Bottom line**\n",
       "\n",
       "- The site presents Anthropic as a safety-forward AI vendor with a full ecosystem around Claude, aimed at developers and enterprises that value governance, compliance, and trustworthy AI behavior.\n",
       "- If your priority is cutting-edge raw capability with fewer guardrails, this might feel more constrained than some competitors; if safety, auditability, and public-benefit alignment are critical for you, Anthropic’s offering could be a strong fit.\n",
       "- Verify current pricing, availability in your region, and the exact safety features or guardrails you need by reviewing the latest product docs and announcements on their site."
      ],
      "text/plain": [
       "<IPython.core.display.Markdown object>"
      ]
     },
     "metadata": {},
     "output_type": "display_data"
    }
   ],
   "source": [
    "display_summary(\"https://anthropic.com\")"
   ]
  },
  {
   "cell_type": "markdown",
   "id": "c951be1a-7f1b-448f-af1f-845978e47e2c",
   "metadata": {},
   "source": [
    "<table style=\"margin: 0; text-align: left;\">\n",
    "    <tr>\n",
    "        <td style=\"width: 150px; height: 150px; vertical-align: middle;\">\n",
    "            <img src=\"../assets/business.jpg\" width=\"150\" height=\"150\" style=\"display: block;\" />\n",
    "        </td>\n",
    "        <td>\n",
    "            <h2 style=\"color:#181;\">Business applications</h2>\n",
    "            <span style=\"color:#181;\">In this exercise, you experienced calling the Cloud API of a Frontier Model (a leading model at the frontier of AI) for the first time. We will be using APIs like OpenAI at many stages in the course, in addition to building our own LLMs.\n",
    "\n",
    "More specifically, we've applied this to Summarization - a classic Gen AI use case to make a summary. This can be applied to any business vertical - summarizing the news, summarizing financial performance, summarizing a resume in a cover letter - the applications are limitless. Consider how you could apply Summarization in your business, and try prototyping a solution.</span>\n",
    "        </td>\n",
    "    </tr>\n",
    "</table>\n",
    "\n",
    "<table style=\"margin: 0; text-align: left;\">\n",
    "    <tr>\n",
    "        <td style=\"width: 150px; height: 150px; vertical-align: middle;\">\n",
    "            <img src=\"../assets/important.jpg\" width=\"150\" height=\"150\" style=\"display: block;\" />\n",
    "        </td>\n",
    "        <td>\n",
    "            <h2 style=\"color:#900;\">Before you continue - now try yourself</h2>\n",
    "            <span style=\"color:#900;\">Use the cell below to make your own simple commercial example. Stick with the summarization use case for now. Here's an idea: write something that will take the contents of an email, and will suggest an appropriate short subject line for the email. That's the kind of feature that might be built into a commercial email tool.</span>\n",
    "        </td>\n",
    "    </tr>\n",
    "</table>"
   ]
  },
  {
   "cell_type": "code",
   "execution_count": null,
   "id": "00743dac-0e70-45b7-879a-d7293a6f68a6",
   "metadata": {},
   "outputs": [],
   "source": [
    "# Step 1: Create your prompts\n",
    "\n",
    "system_prompt = \"something here\"\n",
    "user_prompt = \"\"\"\n",
    "    Lots of text\n",
    "    Can be pasted here\n",
    "\"\"\"\n",
    "\n",
    "# Step 2: Make the messages list\n",
    "\n",
    "messages = [] # fill this in\n",
    "\n",
    "# Step 3: Call OpenAI\n",
    "# response =\n",
    "\n",
    "# Step 4: print the result\n",
    "# print("
   ]
  },
  {
   "cell_type": "markdown",
   "id": "36ed9f14-b349-40e9-a42c-b367e77f8bda",
   "metadata": {},
   "source": [
    "## An extra exercise for those who enjoy web scraping\n",
    "\n",
    "You may notice that if you try `display_summary(\"https://openai.com\")` - it doesn't work! That's because OpenAI has a fancy website that uses Javascript. There are many ways around this that some of you might be familiar with. For example, Selenium is a hugely popular framework that runs a browser behind the scenes, renders the page, and allows you to query it. If you have experience with Selenium, Playwright or similar, then feel free to improve the Website class to use them. In the community-contributions folder, you'll find an example Selenium solution from a student (thank you!)"
   ]
  },
  {
   "cell_type": "markdown",
   "id": "eeab24dc-5f90-4570-b542-b0585aca3eb6",
   "metadata": {},
   "source": [
    "# Sharing your code\n",
    "\n",
    "I'd love it if you share your code afterwards so I can share it with others! You'll notice that some students have already made changes (including a Selenium implementation) which you will find in the community-contributions folder. If you'd like add your changes to that folder, submit a Pull Request with your new versions in that folder and I'll merge your changes.\n",
    "\n",
    "If you're not an expert with git (and I am not!) then GPT has given some nice instructions on how to submit a Pull Request. It's a bit of an involved process, but once you've done it once it's pretty clear. As a pro-tip: it's best if you clear the outputs of your Jupyter notebooks (Edit >> Clean outputs of all cells, and then Save) for clean notebooks.\n",
    "\n",
    "Here are good instructions courtesy of an AI friend:  \n",
    "https://chatgpt.com/share/677a9cb5-c64c-8012-99e0-e06e88afd293"
   ]
  }
 ],
 "metadata": {
  "kernelspec": {
   "display_name": ".venv",
   "language": "python",
   "name": "python3"
  },
  "language_info": {
   "codemirror_mode": {
    "name": "ipython",
    "version": 3
   },
   "file_extension": ".py",
   "mimetype": "text/x-python",
   "name": "python",
   "nbconvert_exporter": "python",
   "pygments_lexer": "ipython3",
   "version": "3.12.12"
  }
 },
 "nbformat": 4,
 "nbformat_minor": 5
}
